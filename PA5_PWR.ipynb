{
 "cells": [
  {
   "cell_type": "markdown",
   "id": "aa1d4db1",
   "metadata": {},
   "source": [
    "### Programming Assignment 5\n",
    "* Will Robinson\n",
    "* 11-04-2021\n",
    "* CS-150-01"
   ]
  },
  {
   "cell_type": "markdown",
   "id": "2d4ce3e7",
   "metadata": {},
   "source": [
    "### Part A"
   ]
  },
  {
   "cell_type": "code",
   "execution_count": 25,
   "id": "129e61f1",
   "metadata": {},
   "outputs": [
    {
     "name": "stdout",
     "output_type": "stream",
     "text": [
      "Enter a word to translate from English to Spanish (enter 0 to stop)hello\n",
      "hola\n",
      "Enter a word to translate from English to Spanish (enter 0 to stop)house\n",
      "casa\n",
      "Enter a word to translate from English to Spanish (enter 0 to stop)car\n",
      "coche\n",
      "Enter a word to translate from English to Spanish (enter 0 to stop)ant\n",
      "hormiga\n",
      "Enter a word to translate from English to Spanish (enter 0 to stop)0\n"
     ]
    }
   ],
   "source": [
    "dict1 = {'hello': 'hola', 'bye': 'adiós', 'chair': 'silla', 'cow': \n",
    "         'vaca', 'sky': 'cielo', 'house': 'casa', 'school': 'colegio', \n",
    "         'hat': 'sombrero', 'cup': 'taza', 'shirt': 'camisa', \n",
    "         'grass': 'césped', 'paper': 'papel', 'work': 'trabaja', \n",
    "         'computer': 'computadora', 'key': 'llave', 'picture': 'fotografía', \n",
    "         'ant': 'hormiga', 'fish': 'pez', 'boat': 'barco', 'car': 'coche'}\n",
    "word=input(\"Enter a word to translate from English to Spanish (enter 0 to stop)\")\n",
    "while True:\n",
    "    if word=='0':\n",
    "        break\n",
    "    else:\n",
    "        print(dict1[word])\n",
    "        word=input(\"Enter a word to translate from English to Spanish (enter 0 to stop)\")"
   ]
  },
  {
   "cell_type": "markdown",
   "id": "a9700ab4",
   "metadata": {},
   "source": [
    "### Part B"
   ]
  },
  {
   "cell_type": "code",
   "execution_count": 27,
   "id": "06b2a4a5",
   "metadata": {},
   "outputs": [
    {
     "name": "stdout",
     "output_type": "stream",
     "text": [
      "The coolest day was on September  22\n",
      "The second hottest day was on September  14\n"
     ]
    },
    {
     "data": {
      "text/plain": [
       "{1: 15.222222222222221,\n",
       " 2: 14.111111111111114,\n",
       " 3: 14.666666666666664,\n",
       " 4: 14.666666666666664,\n",
       " 5: 13.555555555555557,\n",
       " 6: 16.333333333333336,\n",
       " 7: 15.777777777777779,\n",
       " 8: 15.222222222222221,\n",
       " 9: 13.0,\n",
       " 10: 13.555555555555557,\n",
       " 11: 14.666666666666664,\n",
       " 12: 16.333333333333336,\n",
       " 13: 17.444444444444443,\n",
       " 14: 18.0,\n",
       " 15: 14.666666666666664,\n",
       " 16: 15.222222222222221,\n",
       " 17: 17.444444444444443,\n",
       " 18: 17.444444444444443,\n",
       " 19: 15.777777777777779,\n",
       " 20: 11.333333333333336,\n",
       " 21: 11.333333333333336,\n",
       " 22: 6.888888888888886,\n",
       " 23: 7.444444444444443,\n",
       " 24: 9.666666666666664,\n",
       " 25: 10.777777777777779,\n",
       " 26: 10.777777777777779,\n",
       " 27: 15.222222222222221,\n",
       " 28: 16.333333333333336,\n",
       " 29: 18.555555555555557,\n",
       " 30: 15.777777777777779}"
      ]
     },
     "execution_count": 27,
     "metadata": {},
     "output_type": "execute_result"
    }
   ],
   "source": [
    "Temp={1:85, 2:83, 3:84, 4:84, 5:82,\n",
    "        6:87, 7:86, 8:85, 9:81, 10:82,\n",
    "        11:84, 12:87, 13:89, 14:90, 15:84,\n",
    "        16:85, 17:89, 18:89, 19:86, 20:78,\n",
    "        21:78, 22:70, 23:71, 24:75, 25:77,\n",
    "        26:77, 27:85, 28:87, 29:91, 30:86}\n",
    "x=list(Temp.values())\n",
    "y=list(Temp.keys())\n",
    "import numpy as np \n",
    "feh=np.array(x)\n",
    "cel=(5*feh/9-32)\n",
    "Temp=dict(zip(y,cel))\n",
    "\n",
    "coolest=min(Temp.values())\n",
    "for key in Temp:\n",
    "    if Temp[key]==coolest:\n",
    "        print(\"The coolest day was on September \", key)\n",
    "max2=(list(sorted(Temp.values()))[-2])\n",
    "for key in Temp:\n",
    "    if Temp[key]==max2:\n",
    "        print(\"The second hottest day was on September \", key)\n",
    "Temp"
   ]
  },
  {
   "cell_type": "markdown",
   "id": "1544cc9b",
   "metadata": {},
   "source": [
    "### Part C"
   ]
  },
  {
   "cell_type": "code",
   "execution_count": 6,
   "id": "c1f03afd",
   "metadata": {},
   "outputs": [
    {
     "data": {
      "text/plain": [
       "{50, 60, 100, 200}"
      ]
     },
     "execution_count": 6,
     "metadata": {},
     "output_type": "execute_result"
    }
   ],
   "source": [
    "#symmetric difference ()\n",
    "set1 = {50, 60, 70, 80, 90}\n",
    "set2 = {70, 80, 90, 100, 200}\n",
    "set1.symmetric_difference(set2)"
   ]
  },
  {
   "cell_type": "code",
   "execution_count": 7,
   "id": "457dc527",
   "metadata": {},
   "outputs": [
    {
     "data": {
      "text/plain": [
       "{50, 60, 100, 200}"
      ]
     },
     "execution_count": 7,
     "metadata": {},
     "output_type": "execute_result"
    }
   ],
   "source": [
    "set1^set2"
   ]
  },
  {
   "cell_type": "code",
   "execution_count": 5,
   "id": "335492fa",
   "metadata": {},
   "outputs": [
    {
     "data": {
      "text/plain": [
       "False"
      ]
     },
     "execution_count": 5,
     "metadata": {},
     "output_type": "execute_result"
    }
   ],
   "source": [
    "#.isdisjoint()\n",
    "seta = {12, 13, 14, 15, 16}\n",
    "setb = {21, 22, 23, 24, 12}\n",
    "set1.isdisjoint(set2)"
   ]
  },
  {
   "cell_type": "code",
   "execution_count": 9,
   "id": "1c7e141d",
   "metadata": {},
   "outputs": [
    {
     "name": "stdout",
     "output_type": "stream",
     "text": [
      "{12}\n"
     ]
    }
   ],
   "source": [
    "#intersection_update(&=)\n",
    "seta&=setb\n",
    "print(seta)"
   ]
  },
  {
   "cell_type": "code",
   "execution_count": 12,
   "id": "ac94c0db",
   "metadata": {},
   "outputs": [
    {
     "name": "stdout",
     "output_type": "stream",
     "text": [
      "{100, 70, 40, 80, 50, 90, 60, 30}\n",
      "{100, 70, 80, 20, 90}\n"
     ]
    }
   ],
   "source": [
    "#symmetric_difference (^=)\n",
    "setc = {20, 30, 40, 50, 60}\n",
    "setd = {70, 80, 90, 100, 20}\n",
    "setc^=setd\n",
    "print(setc)\n",
    "print(setd)"
   ]
  },
  {
   "cell_type": "code",
   "execution_count": 13,
   "id": "b718df04",
   "metadata": {},
   "outputs": [
    {
     "name": "stdout",
     "output_type": "stream",
     "text": [
      "{8, 11, 15, 16, 17, 19, 21}\n"
     ]
    }
   ],
   "source": [
    "#remove(), discard(), pop()\n",
    "import random\n",
    "sete=set([random.randrange(30) for i in range (10)])\n",
    "print(sete)"
   ]
  },
  {
   "cell_type": "code",
   "execution_count": 14,
   "id": "7f2e4904",
   "metadata": {},
   "outputs": [
    {
     "name": "stdout",
     "output_type": "stream",
     "text": [
      "{8, 15, 16, 17, 19, 21}\n"
     ]
    }
   ],
   "source": [
    "sete.remove(11)\n",
    "print(sete)"
   ]
  },
  {
   "cell_type": "code",
   "execution_count": 15,
   "id": "56cc2bc2",
   "metadata": {},
   "outputs": [
    {
     "name": "stdout",
     "output_type": "stream",
     "text": [
      "{8, 15, 16, 19, 21}\n"
     ]
    }
   ],
   "source": [
    "sete.discard(17)\n",
    "print(sete)"
   ]
  },
  {
   "cell_type": "code",
   "execution_count": 18,
   "id": "519d95d8",
   "metadata": {},
   "outputs": [
    {
     "name": "stdout",
     "output_type": "stream",
     "text": [
      "{15, 16, 19, 21}\n"
     ]
    }
   ],
   "source": [
    "sete.pop()\n",
    "print(sete)"
   ]
  }
 ],
 "metadata": {
  "kernelspec": {
   "display_name": "Python 3",
   "language": "python",
   "name": "python3"
  },
  "language_info": {
   "codemirror_mode": {
    "name": "ipython",
    "version": 3
   },
   "file_extension": ".py",
   "mimetype": "text/x-python",
   "name": "python",
   "nbconvert_exporter": "python",
   "pygments_lexer": "ipython3",
   "version": "3.8.8"
  }
 },
 "nbformat": 4,
 "nbformat_minor": 5
}
